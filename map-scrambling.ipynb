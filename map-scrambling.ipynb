{
 "cells": [
  {
   "cell_type": "markdown",
   "metadata": {},
   "source": [
    "# Map Scrambling\n",
    "\n",
    "This is an experiment to see how time and location data can be scrambled while still allowing querying based on proximity"
   ]
  },
  {
   "cell_type": "code",
   "execution_count": 21,
   "metadata": {},
   "outputs": [
    {
     "name": "stdout",
     "output_type": "stream",
     "text": [
      "Name: taxi_routes; format: kml; length: 24602482\n",
      "Name: fire_stations; format: kml; length: 10200\n"
     ]
    }
   ],
   "source": [
    "from urllib.parse import urlencode, quote_plus\n",
    "import requests\n",
    "import os\n",
    "import hashlib\n",
    "import zipfile\n",
    "import pygeoif.geometry\n",
    "from fastkml import kml\n",
    "\n",
    "cache_dir = os.path.join(os.getcwd(), '_cache')\n",
    "if not os.path.exists(cache_dir):\n",
    "    os.mkdir(cache_dir)\n",
    "\n",
    "sample_data_sets = {\n",
    "    'taxi_routes': {'description': 'The file stores the spatial location of features (point, line, polygon) of taxi routes.',\n",
    "                    'license_url': 'https://web1.capetown.gov.za/web1/OpenDataPortal/Document/GetDocument/1',\n",
    "                    'home_page': 'https://web1.capetown.gov.za/web1/OpenDataPortal/DatasetDetail?DatasetName=Taxi%20routes',\n",
    "                    'url': 'http://cityapps.capetown.gov.za/sites/opendatacatalog/Documents/Taxi%20routes/Taxi_Routes.kmz',\n",
    "                    'skip': False,\n",
    "                   },\n",
    "    'fire_stations': {'description': 'Indicates the location of fire stations.',\n",
    "                    'license_url': 'https://web1.capetown.gov.za/web1/OpenDataPortal/Document/GetDocument/1',\n",
    "                    'home_page': 'https://web1.capetown.gov.za/web1/OpenDataPortal/DatasetDetail?DatasetName=Fire%20stations',\n",
    "                    'url': 'http://cityapps.capetown.gov.za/sites/opendatacatalog/Documents/Fire%20stations/Fire%20stations%202016.kmz',\n",
    "                     }\n",
    "}\n",
    "\n",
    "points = set()\n",
    "routes = []\n",
    "\n",
    "# read in all the data\n",
    "for data_set_name, data_set_attrs in sample_data_sets.items():\n",
    "    if data_set_attrs.get('skip', False):\n",
    "        continue\n",
    "    url = data_set_attrs['url']\n",
    "    document_name = url[url.rfind('/')+1:]\n",
    "    document_format = document_name[document_name.rfind('.')+1:]\n",
    "    actual_url = 'https://www.capetown.gov.za/_layouts/OpenDataPortalHandler/DownloadHandler.ashx?DocumentName=%s&DatasetDocument=%s' % (document_name, quote_plus(url))\n",
    "    url_hash = hashlib.sha256(actual_url.encode('UTF-8')).hexdigest()\n",
    "    cache_filename = os.path.join(cache_dir, '%s-%s' % (url_hash, document_name))\n",
    "    if os.path.exists(cache_filename):\n",
    "        with open(cache_filename, 'rb') as f:\n",
    "            data = f.read()\n",
    "    else:\n",
    "        data = requests.get(actual_url).content\n",
    "        with open(cache_filename, 'wb') as f:\n",
    "            f.write(data)\n",
    "    if document_format == 'kmz':\n",
    "        with zipfile.ZipFile(cache_filename) as kmz_zip:\n",
    "            with kmz_zip.open('doc.kml') as kml_file:\n",
    "                data = kml_file.read()\n",
    "        document_format = 'kml'\n",
    "    print(\"Name: %s; format: %s; length: %s\" % (data_set_name, document_format, len(data)))\n",
    "    k = kml.KML()\n",
    "    k.from_string(data)\n",
    "    for document in k.features():\n",
    "        for folder in document.features():\n",
    "            for placemark in folder.features():\n",
    "                geometry = placemark.geometry\n",
    "                if isinstance(geometry, pygeoif.geometry.Point):\n",
    "                    points.add((geometry.x, geometry.y))\n",
    "                elif isinstance(geometry, pygeoif.geometry.MultiLineString):\n",
    "                    # the taxi routes data has a single linestring per MultiLineString\n",
    "                    for i, linestring in enumerate(geometry.geoms):\n",
    "                        routes.append([(g.x, g.y) for g in linestring.geoms])\n",
    "                else:\n",
    "                    print(\"Unexpected type of geometry: %r\" % geometry)"
   ]
  },
  {
   "cell_type": "code",
   "execution_count": null,
   "metadata": {},
   "outputs": [],
   "source": []
  },
  {
   "cell_type": "code",
   "execution_count": null,
   "metadata": {},
   "outputs": [],
   "source": []
  },
  {
   "cell_type": "code",
   "execution_count": null,
   "metadata": {},
   "outputs": [],
   "source": []
  }
 ],
 "metadata": {
  "kernelspec": {
   "display_name": "Python 3",
   "language": "python",
   "name": "python3"
  },
  "language_info": {
   "codemirror_mode": {
    "name": "ipython",
    "version": 3
   },
   "file_extension": ".py",
   "mimetype": "text/x-python",
   "name": "python",
   "nbconvert_exporter": "python",
   "pygments_lexer": "ipython3",
   "version": "3.8.1"
  }
 },
 "nbformat": 4,
 "nbformat_minor": 4
}
