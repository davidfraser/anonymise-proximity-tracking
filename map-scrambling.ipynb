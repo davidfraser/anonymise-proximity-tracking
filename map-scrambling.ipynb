{
 "cells": [
  {
   "cell_type": "markdown",
   "metadata": {},
   "source": [
    "# Map Scrambling\n",
    "\n",
    "This is an experiment to see how time and location data can be scrambled while still allowing querying based on proximity.\n",
    "\n",
    "\n",
    "## Sample Data\n",
    "\n",
    "First, lets source some open data from the City of Cape Town in order to generate sample location data sets"
   ]
  },
  {
   "cell_type": "code",
   "execution_count": 24,
   "metadata": {},
   "outputs": [
    {
     "name": "stdout",
     "output_type": "stream",
     "text": [
      "Name: taxi_routes; format: kml; length: 24602482\n",
      "  0 points, 1466 paths with 577511 total points\n",
      "Name: fire_stations; format: kml; length: 10200\n",
      "  30 points, 0 paths with 0 total points\n"
     ]
    }
   ],
   "source": [
    "from urllib.parse import urlencode, quote_plus\n",
    "import requests\n",
    "import os\n",
    "import hashlib\n",
    "import random\n",
    "import zipfile\n",
    "import pygeoif.geometry\n",
    "from fastkml import kml\n",
    "\n",
    "cache_dir = os.path.join(os.getcwd(), '_cache')\n",
    "if not os.path.exists(cache_dir):\n",
    "    os.mkdir(cache_dir)\n",
    "\n",
    "# TODO: you need to get the City of Cape Town consent to download these files, as described on the home page URLs\n",
    "sample_data_sets = {\n",
    "    'taxi_routes': {'description': 'The file stores the spatial location of features (point, line, polygon) of taxi routes.',\n",
    "                    'license_url': 'https://web1.capetown.gov.za/web1/OpenDataPortal/Document/GetDocument/1',\n",
    "                    'home_page': 'https://web1.capetown.gov.za/web1/OpenDataPortal/DatasetDetail?DatasetName=Taxi%20routes',\n",
    "                    'url': 'http://cityapps.capetown.gov.za/sites/opendatacatalog/Documents/Taxi%20routes/Taxi_Routes.kmz',\n",
    "                    'skip': False,\n",
    "                   },\n",
    "    'fire_stations': {'description': 'Indicates the location of fire stations.',\n",
    "                    'license_url': 'https://web1.capetown.gov.za/web1/OpenDataPortal/Document/GetDocument/1',\n",
    "                    'home_page': 'https://web1.capetown.gov.za/web1/OpenDataPortal/DatasetDetail?DatasetName=Fire%20stations',\n",
    "                    'url': 'http://cityapps.capetown.gov.za/sites/opendatacatalog/Documents/Fire%20stations/Fire%20stations%202016.kmz',\n",
    "                     }\n",
    "}\n",
    "\n",
    "points = set()\n",
    "routes = []\n",
    "\n",
    "# read in all the data\n",
    "for data_set_name, data_set_attrs in sample_data_sets.items():\n",
    "    if data_set_attrs.get('skip', False):\n",
    "        continue\n",
    "    url = data_set_attrs['url']\n",
    "    document_name = url[url.rfind('/')+1:]\n",
    "    document_format = document_name[document_name.rfind('.')+1:]\n",
    "    actual_url = 'https://www.capetown.gov.za/_layouts/OpenDataPortalHandler/DownloadHandler.ashx?DocumentName=%s&DatasetDocument=%s' % (document_name, quote_plus(url))\n",
    "    url_hash = hashlib.sha256(actual_url.encode('UTF-8')).hexdigest()\n",
    "    cache_filename = os.path.join(cache_dir, '%s-%s' % (url_hash, document_name))\n",
    "    if os.path.exists(cache_filename):\n",
    "        with open(cache_filename, 'rb') as f:\n",
    "            data = f.read()\n",
    "    else:\n",
    "        data = requests.get(actual_url).content\n",
    "        with open(cache_filename, 'wb') as f:\n",
    "            f.write(data)\n",
    "    if document_format == 'kmz':\n",
    "        with zipfile.ZipFile(cache_filename) as kmz_zip:\n",
    "            with kmz_zip.open('doc.kml') as kml_file:\n",
    "                data = kml_file.read()\n",
    "        document_format = 'kml'\n",
    "    print(\"Name: %s; format: %s; length: %s\" % (data_set_name, document_format, len(data)))\n",
    "    k = kml.KML()\n",
    "    k.from_string(data)\n",
    "    count_points, count_paths, count_path_points = 0, 0, 0\n",
    "    for document in k.features():\n",
    "        for folder in document.features():\n",
    "            for placemark in folder.features():\n",
    "                geometry = placemark.geometry\n",
    "                if isinstance(geometry, pygeoif.geometry.Point):\n",
    "                    points.add((geometry.x, geometry.y))\n",
    "                    count_points += 1\n",
    "                elif isinstance(geometry, pygeoif.geometry.MultiLineString):\n",
    "                    # the taxi routes data has a single linestring per MultiLineString\n",
    "                    for i, linestring in enumerate(geometry.geoms):\n",
    "                        routes.append([(g.x, g.y) for g in linestring.geoms])\n",
    "                        count_paths += 1\n",
    "                        count_path_points += len(linestring.geoms)\n",
    "                else:\n",
    "                    print(\"Unexpected type of geometry: %r\" % geometry)\n",
    "    print(\"  %d points, %d paths with %d total points\" % (count_points, count_paths, count_path_points))"
   ]
  },
  {
   "cell_type": "markdown",
   "metadata": {},
   "source": [
    "## Generating time and location data\n",
    "\n",
    "Let's generate a sample set of simulated moving cellphone data"
   ]
  },
  {
   "cell_type": "code",
   "execution_count": 33,
   "metadata": {},
   "outputs": [
    {
     "name": "stdout",
     "output_type": "stream",
     "text": [
      "Tracked 1000 phones and generated 2880622 time-phone-location tuples, with 8359 trips between 2823 phone-locations\n"
     ]
    }
   ],
   "source": [
    "class parameters:\n",
    "    PHONES = 1000\n",
    "    MINUTES = 60*24*14\n",
    "    SAMPLE_FREQUENCY = 7\n",
    "    SAMPLE_STDEV = 2\n",
    "    LOCATIONS_AVG = 2\n",
    "    LOCATIONS_STDEV = 4\n",
    "    TRIPS_PER_DAY_AVG = 3\n",
    "    TRIPS_PER_DAY_STDEV = 1.5\n",
    "    TRIP_TIME_STDEV = SAMPLE_FREQUENCY*10\n",
    "    TRIP_STDEV = 0.003\n",
    "    WALK_STDEV = 0.0005\n",
    "\n",
    "time_phone_location = []\n",
    "\n",
    "total_trips = 0\n",
    "total_locations = 0\n",
    "\n",
    "for phone_id in range(parameters.PHONES):\n",
    "    trips_per_day = max(random.gauss(parameters.TRIPS_PER_DAY_AVG, parameters.TRIPS_PER_DAY_STDEV), 0.1)\n",
    "    location_count = max(int(random.gauss(parameters.LOCATIONS_AVG, parameters.LOCATIONS_STDEV)), 1)\n",
    "    locations = random.sample(points, location_count)\n",
    "    minute = 0.0\n",
    "    location_n = random.randint(0, location_count-1)\n",
    "    total_locations += location_count\n",
    "    x, y = locations[location_n]\n",
    "    trips_taken = 0\n",
    "    in_trip = False\n",
    "    while minute < parameters.MINUTES:\n",
    "        minute += random.gauss(parameters.SAMPLE_FREQUENCY, parameters.SAMPLE_STDEV)\n",
    "        if in_trip:\n",
    "            if trip_point >= len(trip):\n",
    "                in_trip = False\n",
    "                # get a different location to the last one\n",
    "                if location_count > 1:\n",
    "                    new_location_n = random.randint(0, location_count-2)\n",
    "                    location_n = new_location_n + 1 if new_location_n >= location_n else new_location_n\n",
    "                else:\n",
    "                    location_n = 0\n",
    "                x, y = locations[location_n]\n",
    "            else:\n",
    "                x, y = trip[trip_point]\n",
    "                x += random.gauss(0, parameters.TRIP_STDEV)\n",
    "                y += random.gauss(0, parameters.TRIP_STDEV)\n",
    "                trip_point += 1\n",
    "        if not in_trip:\n",
    "            x += random.gauss(0, parameters.WALK_STDEV)\n",
    "            y += random.gauss(0, parameters.WALK_STDEV)\n",
    "            if (minute / 60*24) > (1/trips_per_day - trips_taken) + random.gauss(0, parameters.TRIP_TIME_STDEV):\n",
    "                in_trip, trip, trip_point = True, random.choice(routes), 0\n",
    "                trips_taken += 1\n",
    "                total_trips += 1\n",
    "        time_phone_location.append((minute, phone_id, (x, y)))\n",
    "\n",
    "print(\"Tracked %d phones and generated %d time-phone-location tuples, with %d trips between %d phone-locations\" % (parameters.PHONES, len(time_phone_location), total_trips, total_locations))"
   ]
  },
  {
   "cell_type": "code",
   "execution_count": null,
   "metadata": {},
   "outputs": [],
   "source": []
  }
 ],
 "metadata": {
  "kernelspec": {
   "display_name": "Python 3",
   "language": "python",
   "name": "python3"
  },
  "language_info": {
   "codemirror_mode": {
    "name": "ipython",
    "version": 3
   },
   "file_extension": ".py",
   "mimetype": "text/x-python",
   "name": "python",
   "nbconvert_exporter": "python",
   "pygments_lexer": "ipython3",
   "version": "3.8.1"
  }
 },
 "nbformat": 4,
 "nbformat_minor": 4
}
